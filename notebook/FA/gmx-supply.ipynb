{
 "cells": [
  {
   "cell_type": "code",
   "execution_count": 1,
   "id": "7b0c3fd5-3eb2-4ae1-b882-f43cfc15e542",
   "metadata": {},
   "outputs": [],
   "source": [
    "import pandas as pd\n",
    "import os\n",
    "import dataframe_image as dfi \n",
    "\n",
    "pd.set_option('display.max_columns', 15)\n",
    "pd.set_option('display.max_rows', 50)\n",
    "pd.options.display.float_format = '{:,.4f}'.format"
   ]
  },
  {
   "cell_type": "code",
   "execution_count": 2,
   "id": "663cb610-11cf-4171-af88-698a19c4674f",
   "metadata": {},
   "outputs": [],
   "source": [
    "base_dir = '../..'\n",
    "helper_dir = os.path.join(base_dir, 'helper')\n",
    "output_dir = os.path.join(base_dir, 'output')\n",
    "png_dir = os.path.join(output_dir, 'png')\n",
    "save_fig_dir = os.path.join(png_dir, 'FA')\n",
    "os.makedirs(save_fig_dir, exist_ok=True)\n",
    "\n",
    "%run {helper_dir}/defillama.py"
   ]
  },
  {
   "cell_type": "code",
   "execution_count": 3,
   "id": "9ec6cbc9-201f-4422-b72f-f8ea85f70179",
   "metadata": {},
   "outputs": [],
   "source": [
    "dllama = DefiLlama()"
   ]
  },
  {
   "cell_type": "markdown",
   "id": "839e0629-dbf0-4f0f-aa53-2cc9d86d85be",
   "metadata": {
    "tags": []
   },
   "source": [
    "## Obtain basic metrics for fundamental analysis\n",
    "\n",
    "Instead of going to multiple websites (coingecko, defillama, GMX official site) to look up the basic metrics, we can get them programmatically. "
   ]
  },
  {
   "cell_type": "code",
   "execution_count": 4,
   "id": "3bf51d37-34ba-4c79-929e-7a5c9b7272cc",
   "metadata": {},
   "outputs": [],
   "source": [
    "df = dllama.get_protocols_fundamentals()\n",
    "da = df[df.symbol == 'GMX']\n",
    "tvl, mcap, fdv = da.tvl.iloc[0], da.mcap.iloc[0], da.fdv.iloc[0]"
   ]
  },
  {
   "cell_type": "code",
   "execution_count": 5,
   "id": "cbe2de9a-b3f7-4fc6-93f6-4e3984be19b3",
   "metadata": {},
   "outputs": [],
   "source": [
    "dd = {'gmx':'coingecko',                                        # GMX on coingecko\n",
    "      '0xfc5a1a6eb076a2c7ad06ed22c90d7e710e35ad0a':'arbitrum',  # GMX on arbitrum\n",
    "      '0x62edc0692BD897D2295872a9FFCac5425011c661':'avax',      # GMX on avalanche\n",
    "      }\n",
    "prices = dllama.get_tokens_curr_prices(dd)\n",
    "# prices"
   ]
  },
  {
   "cell_type": "code",
   "execution_count": 6,
   "id": "fd0427ac-ebd4-4caf-a908-1d63ea93ae60",
   "metadata": {},
   "outputs": [],
   "source": [
    "price = prices.price.mean()"
   ]
  },
  {
   "cell_type": "code",
   "execution_count": 7,
   "id": "7639e1af-419d-43c1-b856-f8a68f542b14",
   "metadata": {},
   "outputs": [],
   "source": [
    "circ_supply = mcap / price\n",
    "max_supply = fdv / price\n",
    "pct_circulating = mcap / fdv"
   ]
  },
  {
   "cell_type": "code",
   "execution_count": 8,
   "id": "2977a600-acd1-4f9c-91d2-b94d680e768a",
   "metadata": {},
   "outputs": [
    {
     "name": "stdout",
     "output_type": "stream",
     "text": [
      "TVL: $453,600,880\n",
      "Mcap: $338,640,947\n",
      "FDV: $556,113,295\n",
      "Price: $41.79\n",
      "Circulating Supply: 8,103,397\n",
      "Max Supply: 13,307,329\n",
      "Circulating Supply (%): 61%\n"
     ]
    }
   ],
   "source": [
    "print('TVL:', \"${:,.0f}\".format(tvl))\n",
    "print('Mcap:', \"${:,.0f}\".format(mcap))\n",
    "print('FDV:', \"${:,.0f}\".format(fdv))\n",
    "print('Price:', \"${:.2f}\".format(price))\n",
    "print('Circulating Supply:', \"{:,.0f}\".format(circ_supply))\n",
    "print('Max Supply:', \"{:,.0f}\".format(max_supply))\n",
    "print('Circulating Supply (%):', \"{:.0%}\".format(pct_circulating))"
   ]
  },
  {
   "cell_type": "markdown",
   "id": "f530ad08-eb4a-46ed-bb7b-d1b8b4b6fa82",
   "metadata": {},
   "source": [
    "## Is the current price justified?"
   ]
  },
  {
   "cell_type": "code",
   "execution_count": 9,
   "id": "e98e7f73-e07e-470a-87a1-dcae61066a63",
   "metadata": {},
   "outputs": [
    {
     "name": "stdout",
     "output_type": "stream",
     "text": [
      "39% tokens yet to enter the market\n"
     ]
    }
   ],
   "source": [
    "print('{:.0%} tokens yet to enter the market'.format(1-pct_circulating))"
   ]
  },
  {
   "cell_type": "code",
   "execution_count": 10,
   "id": "67db4db0-495b-4cf8-aca7-9f190c3941ad",
   "metadata": {},
   "outputs": [],
   "source": [
    "# From GMX doc:\n",
    "#\n",
    "# The increase in circulating supply will vary depending on the number of tokens that get vested, \n",
    "# and the amount of tokens used for marketing / partnerships.\n",
    "#\n",
    "# 1 million GMX tokens reserved for marketing, partnerships and community developers.\n",
    "# 250,000 GMX tokens distributed to contributors linearly over 2 years.\n",
    "#\n",
    "# current esGMX emission schedule: https://snapshot.org/#/gmx.eth/proposal/0xb370249628b2226c6a7e771b2959c3b2e80eada36ad3618a7fc39f964213643e\n",
    "# it takes 1 year for 1 esGMX to become 1 GMX\n",
    "#\n",
    "# Minting beyond the max supply of 13.25 million is controlled by a 28 day timelock. \n",
    "# This option will only be used if more products are launched and liquidity mining is required, a governance vote \n",
    "# will be conducted before any changes."
   ]
  },
  {
   "cell_type": "code",
   "execution_count": 11,
   "id": "56abf760-ef45-4d13-aa2c-df3d0d1c1d56",
   "metadata": {},
   "outputs": [],
   "source": [
    "def calc_required_growth_next_year(marketing_partner_dev_release=1e6, new_mint=2e6):\n",
    "    # Calculate the growth of protocol required for the next year to maintain current price.\n",
    "    # \n",
    "    # marketing_partner_dev_release: number of tokens to be released for marketing, partnerships and community \n",
    "    #   devs during next year. A total of 1 million tokens was reserved for these purposes at \n",
    "    #   birth of protocol, and some are probably already released.\n",
    "    #\n",
    "    # new_mint: number of tokens to be minted, beyond the current max supply of 13.25 million, to support new products\n",
    "    \n",
    "    # roughly 50% of team tokens will unlock in next year since protocol started between June and Sept 2021\n",
    "    team_vested = 250_000 / 2\n",
    "    \n",
    "    # calculate roughly the amount of esGMX rewards that will become GMX according to esGMX emission schedule\n",
    "    # https://snapshot.org/#/gmx.eth/proposal/0xb370249628b2226c6a7e771b2959c3b2e80eada36ad3618a7fc39f964213643e\n",
    "    esGMX_vested = 250_000 + 175_000 + 150_000 + 150_000 + 100_000 \n",
    "                       \n",
    "    future_circ_supply = circ_supply + marketing_partner_dev_release + esGMX_vested + new_mint    \n",
    "    future_max_supply = max_supply + new_mint\n",
    "\n",
    "    return {'required growth %':price * future_circ_supply / mcap - 1, 'circulating supply %':future_circ_supply / future_max_supply}"
   ]
  },
  {
   "cell_type": "code",
   "execution_count": 12,
   "id": "ffd368d7-1d8c-4aac-baf8-0bf296a7f5a8",
   "metadata": {},
   "outputs": [],
   "source": [
    "df = pd.DataFrame([calc_required_growth_next_year(1e6, 4e6), \n",
    "                   calc_required_growth_next_year(1e6, 2e6), \n",
    "                   calc_required_growth_next_year(1e6, 1e6), \n",
    "                   calc_required_growth_next_year(1e6, 0), \n",
    "                   calc_required_growth_next_year(0, 0)])\n",
    "\n",
    "df['biz dev spend qty'] = [1e6, 1e6, 1e6, 1e6, 0]\n",
    "df['new mint qty'] = [4e6, 2e6, 1e6, 0, 0]\n",
    "df['scenario'] = ['wasteful expansion', 'prudent expansion', 'prudent expansion', 'resourceful expansion', 'status quo']\n",
    "\n",
    "df = df.loc[:, ['scenario', 'biz dev spend qty', 'new mint qty', 'required growth %', 'circulating supply %']]\n",
    "df = df.set_index('scenario')"
   ]
  },
  {
   "cell_type": "code",
   "execution_count": 13,
   "id": "20e30d71-efc0-4dae-8214-fc3e212d0a73",
   "metadata": {},
   "outputs": [
    {
     "name": "stderr",
     "output_type": "stream",
     "text": [
      "/usr/local/lib/python3.8/site-packages/dataframe_image/_pandas_accessor.py:69: FutureWarning: this method is deprecated in favour of `Styler.to_html()`\n",
      "  html = '<div>' + obj.render() + '</div>'\n",
      "[0927/111208.771339:INFO:headless_shell.cc(660)] Written to file /var/folders/qq/v47zfw7s1kn38gw67q4v194r0000gn/T/tmpgt_4omo9/temp.png.\n"
     ]
    }
   ],
   "source": [
    "format_dict = {'biz dev spend qty': '{:,.0f}',\n",
    "               'new mint qty': '{:,.0f}',\n",
    "               'required growth %': '{:.0%}', 'circulating supply %': '{:.1%}'}\n",
    "df_styled = df.style.format(format_dict)\n",
    "dfi.export(df_styled, os.path.join(save_fig_dir, 'required_growth_scenarios.png'))"
   ]
  },
  {
   "cell_type": "code",
   "execution_count": null,
   "id": "86a8d0ae-d1fc-4d59-9853-9561ac1ed24b",
   "metadata": {},
   "outputs": [],
   "source": []
  }
 ],
 "metadata": {
  "kernelspec": {
   "display_name": "Python 3 (ipykernel)",
   "language": "python",
   "name": "python3"
  },
  "language_info": {
   "codemirror_mode": {
    "name": "ipython",
    "version": 3
   },
   "file_extension": ".py",
   "mimetype": "text/x-python",
   "name": "python",
   "nbconvert_exporter": "python",
   "pygments_lexer": "ipython3",
   "version": "3.8.14"
  }
 },
 "nbformat": 4,
 "nbformat_minor": 5
}
